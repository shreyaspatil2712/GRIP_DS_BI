{
  "nbformat": 4,
  "nbformat_minor": 0,
  "metadata": {
    "colab": {
      "name": "Prediction using Supervised MLipynb",
      "provenance": [],
      "collapsed_sections": []
    },
    "kernelspec": {
      "name": "python3",
      "display_name": "Python 3"
    },
    "language_info": {
      "name": "python"
    }
  },
  "cells": [
    {
      "cell_type": "markdown",
      "metadata": {
        "id": "6HIfMZBSjoud"
      },
      "source": [
        "The Sparks Foundation -  GRIP AUG 2021 \n",
        "#   **Task 1 Using Supervised ML to predict Score.**\n",
        "\n",
        "Shreyas Patil\n",
        "shreyaspatil2712@gmail.com"
      ]
    },
    {
      "cell_type": "markdown",
      "metadata": {
        "id": "Po_XXElckBUv"
      },
      "source": [
        "# Libraries Used\n",
        "\n",
        "1.   numpy \n",
        "2.   pandas\n",
        "3.   matplotlib   - for plots\n",
        "4.   sklearn    - for Machine Learning\n",
        "\n",
        "\n"
      ]
    },
    {
      "cell_type": "code",
      "metadata": {
        "id": "J_Q9krDwkdiD"
      },
      "source": [
        "import numpy as np\n",
        "import pandas as pd\n",
        "import matplotlib.pyplot as plt\n",
        "from sklearn.model_selection import train_test_split as ttst\n",
        "from sklearn.linear_model import LinearRegression \n",
        "from sklearn.ensemble import RandomForestRegressor \n",
        "\n",
        "\n",
        "\n",
        " # to display in notebook\n",
        "%matplotlib inline    \n",
        " \n"
      ],
      "execution_count": 32,
      "outputs": []
    },
    {
      "cell_type": "markdown",
      "metadata": {
        "id": "J2ke-u7044Eq"
      },
      "source": [
        "Importing the data in the which is provided in .csv format ↓"
      ]
    },
    {
      "cell_type": "code",
      "metadata": {
        "id": "ILGTwOV9fPrn"
      },
      "source": [
        "df = pd.read_csv(\"https://raw.githubusercontent.com/AdiPersonalWorks/Random/master/student_scores%20-%20student_scores.csv\")"
      ],
      "execution_count": 33,
      "outputs": []
    },
    {
      "cell_type": "markdown",
      "metadata": {
        "id": "Dym0ft4P5OGF"
      },
      "source": [
        "Checking the data to see if it's been correctly imported↓"
      ]
    },
    {
      "cell_type": "code",
      "metadata": {
        "colab": {
          "base_uri": "https://localhost:8080/",
          "height": 203
        },
        "id": "RnD4QVlw5dDm",
        "outputId": "bfe8be03-6db1-465f-b547-0701bcec7620"
      },
      "source": [
        "df.head()"
      ],
      "execution_count": 34,
      "outputs": [
        {
          "output_type": "execute_result",
          "data": {
            "text/html": [
              "<div>\n",
              "<style scoped>\n",
              "    .dataframe tbody tr th:only-of-type {\n",
              "        vertical-align: middle;\n",
              "    }\n",
              "\n",
              "    .dataframe tbody tr th {\n",
              "        vertical-align: top;\n",
              "    }\n",
              "\n",
              "    .dataframe thead th {\n",
              "        text-align: right;\n",
              "    }\n",
              "</style>\n",
              "<table border=\"1\" class=\"dataframe\">\n",
              "  <thead>\n",
              "    <tr style=\"text-align: right;\">\n",
              "      <th></th>\n",
              "      <th>Hours</th>\n",
              "      <th>Scores</th>\n",
              "    </tr>\n",
              "  </thead>\n",
              "  <tbody>\n",
              "    <tr>\n",
              "      <th>0</th>\n",
              "      <td>2.5</td>\n",
              "      <td>21</td>\n",
              "    </tr>\n",
              "    <tr>\n",
              "      <th>1</th>\n",
              "      <td>5.1</td>\n",
              "      <td>47</td>\n",
              "    </tr>\n",
              "    <tr>\n",
              "      <th>2</th>\n",
              "      <td>3.2</td>\n",
              "      <td>27</td>\n",
              "    </tr>\n",
              "    <tr>\n",
              "      <th>3</th>\n",
              "      <td>8.5</td>\n",
              "      <td>75</td>\n",
              "    </tr>\n",
              "    <tr>\n",
              "      <th>4</th>\n",
              "      <td>3.5</td>\n",
              "      <td>30</td>\n",
              "    </tr>\n",
              "  </tbody>\n",
              "</table>\n",
              "</div>"
            ],
            "text/plain": [
              "   Hours  Scores\n",
              "0    2.5      21\n",
              "1    5.1      47\n",
              "2    3.2      27\n",
              "3    8.5      75\n",
              "4    3.5      30"
            ]
          },
          "metadata": {
            "tags": []
          },
          "execution_count": 34
        }
      ]
    },
    {
      "cell_type": "markdown",
      "metadata": {
        "id": "NAE_5ewl5xvU"
      },
      "source": [
        "**Inorder to predict the scores I will be using a Linear Regression model and a Random Forest Regressor Model. I wil compare both from both models and choose the most accurate one.**"
      ]
    },
    {
      "cell_type": "markdown",
      "metadata": {
        "id": "Q9u10VIeR4EU"
      },
      "source": [
        "# **Linear Regression Model**"
      ]
    },
    {
      "cell_type": "markdown",
      "metadata": {
        "id": "ItWbYIW069Xw"
      },
      "source": [
        "Procedding with linear regression, I will 1st create a line plot for reference "
      ]
    },
    {
      "cell_type": "code",
      "metadata": {
        "colab": {
          "base_uri": "https://localhost:8080/",
          "height": 592
        },
        "id": "ux4-tIb-_tgD",
        "outputId": "0e850373-7a5b-4b0f-a80a-962991e5f939"
      },
      "source": [
        "fig, lnplot = plt.subplots(figsize=(10,10))\n",
        "lnplot.scatter(df[\"Hours\"], df[\"Scores\"]);"
      ],
      "execution_count": 35,
      "outputs": [
        {
          "output_type": "display_data",
          "data": {
            "image/png": "[encoded data removed]",
            "text/plain": [
              "<Figure size 720x720 with 1 Axes>"
            ]
          },
          "metadata": {
            "tags": [],
            "needs_background": "light"
          }
        }
      ]
    },
    {
      "cell_type": "markdown",
      "metadata": {
        "id": "oT2N3TjDNOGE"
      },
      "source": [
        "Seperating \"Scores\" and \"Hours\" and performing train test split with test size 0.3 so as to spilt the data in a 70/30 ratio"
      ]
    },
    {
      "cell_type": "code",
      "metadata": {
        "id": "9hdErKlRAC7N"
      },
      "source": [
        "X = df.drop(\"Scores\", axis=1)\n",
        "Y = df[\"Scores\"]\n",
        "\n",
        "X_train, X_test, Y_train, Y_test =  ttst(X, Y, test_size = 0.3)"
      ],
      "execution_count": 36,
      "outputs": []
    },
    {
      "cell_type": "code",
      "metadata": {
        "colab": {
          "base_uri": "https://localhost:8080/"
        },
        "id": "6ZOkJWTWK1vH",
        "outputId": "4273cdc0-55ad-4177-9fa1-2da0125ed1c3"
      },
      "source": [
        "X_train.shape, X_test.shape, Y_train.shape, Y_test.shape\n"
      ],
      "execution_count": 37,
      "outputs": [
        {
          "output_type": "execute_result",
          "data": {
            "text/plain": [
              "((17, 1), (8, 1), (17,), (8,))"
            ]
          },
          "metadata": {
            "tags": []
          },
          "execution_count": 37
        }
      ]
    },
    {
      "cell_type": "markdown",
      "metadata": {
        "id": "CbjtUZlDQ8Zm"
      },
      "source": [
        "Finally fit and score on the model"
      ]
    },
    {
      "cell_type": "code",
      "metadata": {
        "colab": {
          "base_uri": "https://localhost:8080/"
        },
        "id": "ynJ5mZ-rK8Qo",
        "outputId": "4872535f-c6a8-4f6a-dc64-a118dc7ce5f5"
      },
      "source": [
        "\n",
        "lireg = LinearRegression()\n",
        "lireg.fit(X_train, Y_train)\n",
        "\n",
        "lireg.score(X_train, Y_train)"
      ],
      "execution_count": 38,
      "outputs": [
        {
          "output_type": "execute_result",
          "data": {
            "text/plain": [
              "0.957150249527367"
            ]
          },
          "metadata": {
            "tags": []
          },
          "execution_count": 38
        }
      ]
    },
    {
      "cell_type": "code",
      "metadata": {
        "colab": {
          "base_uri": "https://localhost:8080/",
          "height": 592
        },
        "id": "d5m4_h6-hGUn",
        "outputId": "fba4cf54-402c-4ac5-aa4a-a44f5e3d3d75"
      },
      "source": [
        "pred1 = lireg.predict(X)\n",
        "fig, lnplot = plt.subplots(figsize=(10,10))\n",
        "line = lireg.coef_*X+lireg.intercept_\n",
        "\n",
        "# Plotting for the test data\n",
        "plt.scatter(X, Y)\n",
        "plt.plot(X, line);\n",
        "plt.show()\n"
      ],
      "execution_count": 39,
      "outputs": [
        {
          "output_type": "display_data",
          "data": {
            "image/png": "[encoded data removed]",
            "text/plain": [
              "<Figure size 720x720 with 1 Axes>"
            ]
          },
          "metadata": {
            "tags": [],
            "needs_background": "light"
          }
        }
      ]
    },
    {
      "cell_type": "markdown",
      "metadata": {
        "id": "ZxrwrE5lRG_w"
      },
      "source": [
        "Checking accuracy by checking score on the test data"
      ]
    },
    {
      "cell_type": "code",
      "metadata": {
        "colab": {
          "base_uri": "https://localhost:8080/"
        },
        "id": "SwjYt_H4L3xs",
        "outputId": "498b3efa-7af2-46b8-c658-093247aa41bc"
      },
      "source": [
        "lireg.score(X_test, Y_test)"
      ],
      "execution_count": 40,
      "outputs": [
        {
          "output_type": "execute_result",
          "data": {
            "text/plain": [
              "0.93450839399384"
            ]
          },
          "metadata": {
            "tags": []
          },
          "execution_count": 40
        }
      ]
    },
    {
      "cell_type": "markdown",
      "metadata": {
        "id": "_l5jqjzcRaqB"
      },
      "source": [
        "**I have got a 93.4% accuracy over here. I'd say pretty that's pretty great :)**\n",
        "\n",
        "---\n",
        "\n"
      ]
    },
    {
      "cell_type": "markdown",
      "metadata": {
        "id": "yNknAW7gSHW8"
      },
      "source": [
        "let's move on too Random Forest"
      ]
    },
    {
      "cell_type": "markdown",
      "metadata": {
        "id": "Gsf3JGjqSWdN"
      },
      "source": [
        "# Random Forest Regression Model"
      ]
    },
    {
      "cell_type": "markdown",
      "metadata": {
        "id": "ktM1ZMKqS94C"
      },
      "source": [
        "Fit and Score on Random Forest"
      ]
    },
    {
      "cell_type": "code",
      "metadata": {
        "colab": {
          "base_uri": "https://localhost:8080/"
        },
        "id": "M3F14ocUSNJP",
        "outputId": "b1a8656a-262c-4fa2-869e-db7c1f5b305a"
      },
      "source": [
        "rfreg = RandomForestRegressor()\n",
        "rfreg.fit(X_train, Y_train)\n",
        "rfreg.score(X_train, Y_train)"
      ],
      "execution_count": 41,
      "outputs": [
        {
          "output_type": "execute_result",
          "data": {
            "text/plain": [
              "0.9814185469410055"
            ]
          },
          "metadata": {
            "tags": []
          },
          "execution_count": 41
        }
      ]
    },
    {
      "cell_type": "code",
      "metadata": {
        "colab": {
          "base_uri": "https://localhost:8080/",
          "height": 592
        },
        "id": "v3RWWJYZik0j",
        "outputId": "9af68332-e9ab-4af3-afd3-43ee6a8cb640"
      },
      "source": [
        "pred2 = rfreg.predict(X)\n",
        "fig, lnplot = plt.subplots(figsize=(10,10))\n",
        "plt.scatter(X, Y)\n",
        "plt.scatter(X, pred2);\n",
        "plt.show()"
      ],
      "execution_count": 42,
      "outputs": [
        {
          "output_type": "display_data",
          "data": {
            "image/png": "[encoded data removed]",
            "text/plain": [
              "<Figure size 720x720 with 1 Axes>"
            ]
          },
          "metadata": {
            "tags": [],
            "needs_background": "light"
          }
        }
      ]
    },
    {
      "cell_type": "markdown",
      "metadata": {
        "id": "3chrVw5TTdd4"
      },
      "source": [
        "Checking accuracy by checking score on the test data"
      ]
    },
    {
      "cell_type": "code",
      "metadata": {
        "colab": {
          "base_uri": "https://localhost:8080/"
        },
        "id": "ebkKyyJPTeCw",
        "outputId": "e993205e-ce5e-45e4-fc36-6c8ed1a629c9"
      },
      "source": [
        "rfreg.score(X_test, Y_test)"
      ],
      "execution_count": 43,
      "outputs": [
        {
          "output_type": "execute_result",
          "data": {
            "text/plain": [
              "0.9457953953466565"
            ]
          },
          "metadata": {
            "tags": []
          },
          "execution_count": 43
        }
      ]
    },
    {
      "cell_type": "markdown",
      "metadata": {
        "id": "oA1Y6qboUF_B"
      },
      "source": [
        "**I have got a 94.5% accuracy over here. We've got the winner :)**"
      ]
    },
    {
      "cell_type": "markdown",
      "metadata": {
        "id": "0kXPYcd_UTJI"
      },
      "source": [
        "**As seen above the Random Forest Regression model has given the highest accuracy (94.5%) , So we will be using it for prediction.** "
      ]
    },
    {
      "cell_type": "markdown",
      "metadata": {
        "id": "RRTYtqRxUwoI"
      },
      "source": [
        "# **Prediction**"
      ]
    },
    {
      "cell_type": "code",
      "metadata": {
        "id": "jRNiLgGWTld8"
      },
      "source": [
        "Y_pred = rfreg.predict([[9.25]])"
      ],
      "execution_count": 49,
      "outputs": []
    },
    {
      "cell_type": "code",
      "metadata": {
        "colab": {
          "base_uri": "https://localhost:8080/"
        },
        "id": "AWiPTi64U7_M",
        "outputId": "924d8e61-9143-440d-d3ed-343266e2673d"
      },
      "source": [
        "Y_pred"
      ],
      "execution_count": 50,
      "outputs": [
        {
          "output_type": "execute_result",
          "data": {
            "text/plain": [
              "array([88.97])"
            ]
          },
          "metadata": {
            "tags": []
          },
          "execution_count": 50
        }
      ]
    },
    {
      "cell_type": "markdown",
      "metadata": {
        "id": "Ucu1KdbTVJ5e"
      },
      "source": [
        "# **Conclusion**"
      ]
    },
    {
      "cell_type": "markdown",
      "metadata": {
        "id": "G3btwxaTVQh_"
      },
      "source": [
        "**According to the Prediction a student will have a score of 88.97% after studying for 9.25 hours**"
      ]
    }
  ]
}